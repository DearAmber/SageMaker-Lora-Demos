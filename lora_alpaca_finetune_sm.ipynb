{
 "cells": [
  {
   "cell_type": "markdown",
   "id": "7175f1c0-6859-469a-a995-36c4078d869b",
   "metadata": {},
   "source": [
    "### Prepare SageMaker Session\n",
    "please select conda_pytorch_p39 as your kernel if you are using a SageMaker Notebook Instance"
   ]
  },
  {
   "cell_type": "code",
   "execution_count": null,
   "id": "4d0f83f1-6494-4497-bb88-11310fba49d3",
   "metadata": {},
   "outputs": [],
   "source": [
    "import sagemaker\n",
    "import boto3\n",
    "\n",
    "sess = sagemaker.Session()\n",
    "role = sagemaker.get_execution_role()\n",
    "\n",
    "print(f\"sagemaker role arn: {role}\")\n",
    "print(f\"sagemaker bucket: {sess.default_bucket()}\")\n",
    "print(f\"sagemaker session region: {sess.boto_region_name}\")"
   ]
  },
  {
   "cell_type": "code",
   "execution_count": null,
   "id": "ac08fffd-ef9a-447b-9335-5e15cf44849c",
   "metadata": {
    "tags": []
   },
   "outputs": [],
   "source": [
    "!pip install sagemaker --upgrade"
   ]
  },
  {
   "cell_type": "markdown",
   "id": "de3f1731-67b7-4fe9-b5d6-096c59a3a8a3",
   "metadata": {},
   "source": [
    "### Clone Git"
   ]
  },
  {
   "cell_type": "code",
   "execution_count": null,
   "id": "984956a8-1dbe-4b1a-9f39-7b563df79a73",
   "metadata": {
    "tags": []
   },
   "outputs": [],
   "source": [
    "#!git clone https://github.com/tloen/alpaca-lora.git\n",
    "%cd alpaca-lora\n",
    "!pip install -r requirements.txt"
   ]
  },
  {
   "cell_type": "code",
   "execution_count": null,
   "id": "6db5bdfe-c9c5-4379-824a-bfe1c12128f6",
   "metadata": {
    "tags": []
   },
   "outputs": [],
   "source": [
    "#!pip uninstall bitsandbytes \n",
    "#!pip install bitsandbytes\n",
    "!pip install --upgrade accelerate"
   ]
  },
  {
   "cell_type": "markdown",
   "id": "df946774-1360-45fd-8d8e-2d824b7342ae",
   "metadata": {},
   "source": [
    "### Local Training"
   ]
  },
  {
   "cell_type": "code",
   "execution_count": null,
   "id": "c276abf3-ed12-4d8f-9276-f83ed88cad24",
   "metadata": {
    "tags": []
   },
   "outputs": [],
   "source": [
    "!python finetune.py \\\n",
    "    --base_model 'decapoda-research/llama-7b-hf' \\\n",
    "    --data_path 'yahma/alpaca-cleaned' \\\n",
    "    --output_dir '../lora-alpaca-ckpt' "
   ]
  },
  {
   "cell_type": "markdown",
   "id": "e94d2f65-c7b8-4913-b632-abbaef04f26b",
   "metadata": {},
   "source": [
    "### Fine Tune on SageMaker"
   ]
  },
  {
   "cell_type": "code",
   "execution_count": null,
   "id": "d83c0d5d-872a-4409-bfd6-f480b029c2a5",
   "metadata": {
    "tags": []
   },
   "outputs": [],
   "source": [
    "base_model_sm = 'decapoda-research/llama-7b-hf'\n",
    "data_path_sm = '/opt/ml/input/data/training'\n",
    "output_dir_sm = '/opt/ml/model'"
   ]
  },
  {
   "cell_type": "code",
   "execution_count": null,
   "id": "227f9294-5fd0-4d91-a1f7-b2cc818d2cb3",
   "metadata": {
    "tags": []
   },
   "outputs": [],
   "source": [
    "hyperparams = {'base_model': base_model_sm,\n",
    "                 'data_path': data_path_sm,\n",
    "                 'output_dir': output_dir_sm\n",
    "                 }"
   ]
  },
  {
   "cell_type": "code",
   "execution_count": null,
   "id": "78a036ec-5a62-493e-bd26-06ec5d1faec8",
   "metadata": {
    "tags": []
   },
   "outputs": [],
   "source": [
    "import time\n",
    "from sagemaker.pytorch import PyTorch\n",
    "from sagemaker.inputs import TrainingInput\n",
    "from sagemaker import get_execution_role\n",
    "\n",
    "role = get_execution_role()\n",
    "job_name = f'lora-alpaca-{time.strftime(\"%Y-%m-%d-%H-%M-%S\", time.localtime())}'\n",
    "\n",
    "instance_count = 1\n",
    "\n",
    "# create the Estimator\n",
    "pytorch_estimator = PyTorch(\n",
    "    entry_point          = 'finetune.py',          # user endpoint script\n",
    "    source_dir           = '.',               # directory which includes all the files needed for training\n",
    "    instance_type        = 'ml.p3.2xlarge', # instances type used for the training job\n",
    "    instance_count       = instance_count,                 # the number of instances used for training\n",
    "    base_job_name        = job_name,          # the name of the training job\n",
    "    role                 = role,              # Iam role used in training job to access AWS ressources, e.g. S3\n",
    "    framework_version    = '1.13',            # the pytorch_version version used in the training job\n",
    "    py_version           = 'py39',            # the python version used in the training job\n",
    "    hyperparameters      = hyperparams,\n",
    ")\n",
    "\n",
    "pytorch_estimator.fit()"
   ]
  }
 ],
 "metadata": {
  "kernelspec": {
   "display_name": "conda_pytorch_p39",
   "language": "python",
   "name": "conda_pytorch_p39"
  },
  "language_info": {
   "codemirror_mode": {
    "name": "ipython",
    "version": 3
   },
   "file_extension": ".py",
   "mimetype": "text/x-python",
   "name": "python",
   "nbconvert_exporter": "python",
   "pygments_lexer": "ipython3",
   "version": "3.9.15"
  }
 },
 "nbformat": 4,
 "nbformat_minor": 5
}
